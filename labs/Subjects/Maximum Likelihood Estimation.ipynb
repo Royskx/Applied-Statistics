{
 "cells": [
  {
   "cell_type": "markdown",
   "metadata": {
    "id": "v3R-drx3dBKv"
   },
   "source": [
    "### Library import"
   ]
  },
  {
   "cell_type": "code",
   "execution_count": null,
   "metadata": {
    "colab": {
     "base_uri": "https://localhost:8080/",
     "height": 89
    },
    "id": "uh_SvFn3dBKy",
    "outputId": "711b475b-e382-4e99-ba14-4899f87046ec"
   },
   "outputs": [],
   "source": [
    "import numpy as np  # math library\n",
    "import pandas as pd  # Library to handle databases\n",
    "import matplotlib.pyplot as plt  # Graphic library\n",
    "from scipy import stats  # stat library\n",
    "import seaborn as sns  # Graphic library specialized in stats\n",
    "import statsmodels.api as sm  # statistic modelling library"
   ]
  },
  {
   "cell_type": "markdown",
   "metadata": {
    "id": "avKdx6kZdBK5"
   },
   "source": [
    "# Maximum likelihood estimation"
   ]
  },
  {
   "cell_type": "markdown",
   "metadata": {
    "id": "48_AYZWodBK8"
   },
   "source": [
    "## Bernoulli random variables"
   ]
  },
  {
   "cell_type": "markdown",
   "metadata": {
    "id": "bKklJ9VtdBK-"
   },
   "source": [
    "### Question 1\n",
    "Generate a sample of size $N=5$ from a Bernoulli distribution with support $\\{0,1\\}$ and probability $p=0.3$.\n",
    "\n",
    "Make a graphical representation of the empirical PMF and the theoretical PMF using a stem plot."
   ]
  },
  {
   "cell_type": "code",
   "execution_count": null,
   "metadata": {
    "colab": {
     "base_uri": "https://localhost:8080/",
     "height": 358
    },
    "id": "RWDzbPAOdBK_",
    "outputId": "b6328a4c-b25b-4595-ceb3-4275a2921b13"
   },
   "outputs": [],
   "source": [
    "N = 5\n",
    "p = 0.3\n",
    "X = ...  # Generate the sample\n",
    "\n",
    "p_hat = ...  # Compute the empirical probability of success\n",
    "plt.subplot(1, 2, 1)\n",
    "plt.ylim(0, 1)\n",
    "p1 = plt.stem([0, 1], [..., ...], label='empirical pmf')\n",
    "plt.legend()\n",
    "plt.subplot(1, 2, 2)\n",
    "plt.ylim(0, 1)\n",
    "p2 = plt.stem([0, 1], [..., ...], label='theoretical pmf')\n",
    "plt.legend()\n",
    "plt.show()\n"
   ]
  },
  {
   "cell_type": "markdown",
   "metadata": {
    "id": "EpLg_rFydBLI"
   },
   "source": [
    "### Question 2\n",
    "Write a function that computes the log-likelihood for this model. Plot the curve of the likelihood for different samples."
   ]
  },
  {
   "cell_type": "code",
   "execution_count": null,
   "metadata": {
    "colab": {
     "base_uri": "https://localhost:8080/",
     "height": 69
    },
    "id": "HNVf74asdBLK",
    "outputId": "71ccce8d-b60e-43c6-ae2b-1c7176bc9191"
   },
   "outputs": [],
   "source": [
    "def log_likelihood(p, X):\n",
    "    ...  # Compute the log-likelihood\n",
    "\n",
    "\n",
    "print(log_likelihood(0, X), log_likelihood(0.3, X), log_likelihood(0.5, X), log_likelihood(1, X))"
   ]
  },
  {
   "cell_type": "code",
   "execution_count": null,
   "metadata": {
    "colab": {
     "base_uri": "https://localhost:8080/",
     "height": 370
    },
    "id": "tDEEjLLvdBLO",
    "outputId": "c0aa0692-a4d9-44e7-d330-9b24ca892473"
   },
   "outputs": [],
   "source": [
    "pplot = np.linspace(0, 1, num=100)\n",
    "for _ in range(3):\n",
    "    X = ...  # Generate a new sample\n",
    "    plt.plot(pplot, ..., label=f'sample {_}')\n",
    "plt.show()"
   ]
  },
  {
   "cell_type": "markdown",
   "metadata": {
    "id": "yfmu6iwrdBLW"
   },
   "source": [
    "We can compute the maximum of the likelihood by taking the derivative of the log-likelihood and setting it equal to $0$. In the case of Bernoulli random variables we have a closed form solution and we don't need an optimization algorithm. However, in many real life application, the model is too complex and the likelihood equation cannot be solved in closed form. In this case, we can use an optimization algorithm."
   ]
  },
  {
   "cell_type": "markdown",
   "metadata": {
    "id": "qHrpZ5NfdBLe"
   },
   "source": [
    "# Maximum likelihood and optimization\n",
    "\n",
    "The file \"lifetimes.txt\" (automatically downloaded in the first cell) contains some lifetime measures for $n=20$ industrial materials, the values are in thousands of hours. We import the dataset with panda library."
   ]
  },
  {
   "cell_type": "code",
   "execution_count": null,
   "metadata": {
    "colab": {
     "base_uri": "https://localhost:8080/",
     "height": 300
    },
    "id": "abDHn7vrdBLe",
    "outputId": "16de8d5e-8973-44aa-a5e9-3e6dae1cb741"
   },
   "outputs": [],
   "source": [
    "df = pd.read_csv('lifetimes.txt')\n",
    "df.describe()"
   ]
  },
  {
   "cell_type": "markdown",
   "metadata": {
    "id": "HneEwt_1dBLi"
   },
   "source": [
    "### Question 3\n",
    "\n"
   ]
  },
  {
   "cell_type": "markdown",
   "metadata": {
    "id": "EfgQaxQOdBL4"
   },
   "source": [
    "In reliability studies, we often use the Weibull law whose density is given for some parameter $a>0$ by\n",
    "$$\\forall x>0, \\quad f_a(x)=ax^{a-1}\\exp(-x^a) $$\n",
    "In scipy this distribution is called weibull_min\n",
    "\n",
    "The negative log-likelihood is the log-likelihood multiplied by $-1$. It is the function we want to minimize to find the maximum likelihood estimator of $a$.\n",
    "\n",
    "- Derive the negative log-likelihood of the Weibull model.\n",
    "- Plot the negative log-likelihood for different values of $a$."
   ]
  },
  {
   "cell_type": "code",
   "execution_count": null,
   "metadata": {
    "colab": {
     "base_uri": "https://localhost:8080/",
     "height": 265
    },
    "id": "OgH1BPe3dBL6",
    "outputId": "66bbf0a6-d7b7-4f8a-f3e2-7e1fd1e59b29"
   },
   "outputs": [],
   "source": [
    "from functools import partial\n",
    "\n",
    "\n",
    "def weibull_neg_log_likelihood(a, x):\n",
    "    ...  # Compute the negative log-likelihood\n",
    "\n",
    "\n",
    "weibull_neg_log_likelihood = partial(weibull_neg_log_likelihood, x=df['times'])\n",
    "\n",
    "aplot = np.linspace(0.1, 5)\n",
    "plt.plot(aplot, ...)\n",
    "plt.show()"
   ]
  },
  {
   "cell_type": "markdown",
   "metadata": {
    "id": "nfK0g9kFdBL5"
   },
   "source": [
    "### Question 4\n",
    "Use an optimization algorithm to find the maximizer of the likelihood in a weibull model, call this estimator a_hat."
   ]
  },
  {
   "cell_type": "code",
   "execution_count": null,
   "metadata": {
    "colab": {
     "base_uri": "https://localhost:8080/",
     "height": 104
    },
    "id": "EcnQZzQPdBL8",
    "outputId": "d1948666-944c-4b57-edaa-80f84f09b509"
   },
   "outputs": [],
   "source": [
    "from scipy.optimize import minimize\n",
    "\n",
    "initial_guess = ...  # You have to make an initial guess to begin the iterative algorithm. Use Question 3.\n",
    "res = minimize(weibull_neg_log_likelihood, initial_guess,\n",
    "               options={'disp': True})  # do the minimization, display informations on the convergence."
   ]
  },
  {
   "cell_type": "markdown",
   "metadata": {
    "id": "0vznkCz4JPd3"
   },
   "source": [
    "*When using an optimization algorithm, if it does not converge straight-away, you may want to change the parameters of the algorithm. See scipy's documentation. The first thing to try is to change the method and the initial guess.*"
   ]
  },
  {
   "cell_type": "code",
   "execution_count": null,
   "metadata": {
    "id": "YgjALYfxdBL_"
   },
   "outputs": [],
   "source": [
    "a_hat = res.x\n",
    "print(f'The maximum likelihood estimator is {a_hat[0]}')"
   ]
  },
  {
   "cell_type": "markdown",
   "metadata": {
    "id": "VkEeoKAGdBMF"
   },
   "source": [
    "### Question 5"
   ]
  },
  {
   "cell_type": "markdown",
   "metadata": {
    "id": "W9DhxcpJdBMF"
   },
   "source": [
    "Plot the histogram of the data and the density estimated using the weibull model. Also make a QQ-plot to display the fit of the model (find out what it is). Is the model satisfying ?"
   ]
  },
  {
   "cell_type": "code",
   "execution_count": null,
   "metadata": {
    "colab": {
     "base_uri": "https://localhost:8080/",
     "height": 282
    },
    "id": "FDrROhXKdBMH",
    "outputId": "adc16fba-6f89-43ac-b23e-4b59f7c54d7d"
   },
   "outputs": [],
   "source": [
    "plt.hist(...)\n",
    "xplot = np.linspace(..., ..., num=100) # Determine the range of the plot\n",
    "density_weibull = lambda x: ...  # Define the density of the weibull model\n",
    "plt.plot(xplot, density_weibull(xplot))"
   ]
  },
  {
   "cell_type": "code",
   "execution_count": null,
   "metadata": {
    "colab": {
     "base_uri": "https://localhost:8080/",
     "height": 279
    },
    "id": "qbbYXZHudBMI",
    "outputId": "9bdb9af5-22c4-4887-c652-6ed881a03c2b"
   },
   "outputs": [],
   "source": [
    "sm.qqplot(...) # Make the QQ-plot\n",
    "plt.show()"
   ]
  },
  {
   "cell_type": "markdown",
   "metadata": {
    "id": "9_Lk2nXwdBMM"
   },
   "source": [
    "Is the Weibull a good fit for these data ?"
   ]
  }
 ],
 "metadata": {
  "colab": {
   "provenance": []
  },
  "kernelspec": {
   "display_name": "Python 3 (ipykernel)",
   "language": "python",
   "name": "python3"
  },
  "language_info": {
   "codemirror_mode": {
    "name": "ipython",
    "version": 3
   },
   "file_extension": ".py",
   "mimetype": "text/x-python",
   "name": "python",
   "nbconvert_exporter": "python",
   "pygments_lexer": "ipython3",
   "version": "3.13.0"
  }
 },
 "nbformat": 4,
 "nbformat_minor": 4
}
