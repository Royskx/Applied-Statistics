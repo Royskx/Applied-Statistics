{
 "cells": [
  {
   "cell_type": "markdown",
   "metadata": {},
   "source": [
    "# Lesson 3 Module 4: Confidence Intervals\n",
    "\n",
    "This notebook demonstrates confidence interval construction and comparison using practical examples.\n",
    "It applies Lesson 1 (CLT) and Lesson 2 (delta method) to quantify uncertainty.\n",
    "\n",
    "## Learning Objectives\n",
    "- Define (1−α) confidence intervals and interpret correctly\n",
    "- Derive classical CIs: Normal mean, t-intervals, variance, proportions\n",
    "- Compare proportion CI methods using A/B testing data\n",
    "- Understand pivots and asymptotic CIs (delta method)\n",
    "\n",
    "## Repository Context\n",
    "- Uses `ci_prop_*` functions from the appendix\n",
    "- Uses `shared/data/ab_test_clicks.csv` for A/B testing examples\n",
    "- Applies Lesson 1 (CLT) and Lesson 2 (delta method) concepts"
   ]
  },
  {
   "cell_type": "code",
   "execution_count": null,
   "metadata": {},
   "outputs": [],
   "source": [
    "import numpy as np\n",
    "import pandas as pd\n",
    "import matplotlib.pyplot as plt\n",
    "import seaborn as sns\n",
    "from scipy import stats\n",
    "\n",
    "# Set style and random seed\n",
    "sns.set_theme(context=\"talk\", style=\"whitegrid\")\n",
    "sns.set_palette([\"#000000\", \"#E69F00\", \"#56B4E9\", \"#009E73\",\n",
    "                 \"#F0E442\", \"#0072B2\", \"#D55E00\", \"#CC79A7\"])\n",
    "rng = np.random.default_rng(2025)\n",
    "\n",
    "print(\"Environment setup complete. Random seed: 2025\")"
   ]
  },
  {
   "cell_type": "markdown",
   "metadata": {},
   "source": [
    "## 1. Confidence Interval Functions\n",
    "\n",
    "Using the functions from the appendix to compute various confidence intervals."
   ]
  },
  {
   "cell_type": "code",
   "execution_count": null,
   "metadata": {},
   "outputs": [],
   "source": [
    "# CI functions (from appendix)\n",
    "def ci_prop_wald(k, n, alpha=0.05):\n",
    "    p = k/n\n",
    "    z = stats.norm.ppf(1 - alpha/2)\n",
    "    hw = z*np.sqrt(max(p*(1-p)/n, 0.0))\n",
    "    return max(0.0, p-hw), min(1.0, p+hw)\n",
    "\n",
    "def ci_prop_wilson(k, n, alpha=0.05):\n",
    "    if n==0: return (np.nan, np.nan)\n",
    "    z = stats.norm.ppf(1 - alpha/2)\n",
    "    p = k/n\n",
    "    denom = 1 + z**2/n\n",
    "    center = (p + z**2/(2*n)) / denom\n",
    "    adj = p*(1-p)/n + z**2/(4*n**2)\n",
    "    hw = z/denom * np.sqrt(adj)\n",
    "    return max(0.0, center - hw), min(1.0, center + hw)\n",
    "\n",
    "def ci_prop_agresti_coull(k, n, alpha=0.05):\n",
    "    z = stats.norm.ppf(1 - alpha/2)\n",
    "    ntilde = n + z**2\n",
    "    ptilde = (k + z**2/2) / ntilde\n",
    "    hw = z*np.sqrt(ptilde*(1-ptilde)/ntilde)\n",
    "    return max(0.0, ptilde-hw), min(1.0, ptilde+hw)\n",
    "\n",
    "def ci_prop_clopper_pearson(k, n, alpha=0.05):\n",
    "    a = alpha/2\n",
    "    if k==0:\n",
    "        lo = 0.0\n",
    "    else:\n",
    "        lo = stats.beta.ppf(a, k, n-k+1)\n",
    "    if k==n:\n",
    "        hi = 1.0\n",
    "    else:\n",
    "        hi = stats.beta.ppf(1-a, k+1, n-k)\n",
    "    return lo, hi\n",
    "\n",
    "print(\"CI functions defined\")"
   ]
  },
  {
   "cell_type": "code",
   "execution_count": null,
   "metadata": {},
   "outputs": [],
   "source": [
    "# Test CI functions\n",
    "k, n = 15, 50  # 15 successes out of 50 trials\n",
    "alpha = 0.05\n",
    "\n",
    "wald_lo, wald_hi = ci_prop_wald(k, n, alpha)\n",
    "wilson_lo, wilson_hi = ci_prop_wilson(k, n, alpha)\n",
    "ac_lo, ac_hi = ci_prop_agresti_coull(k, n, alpha)\n",
    "cp_lo, cp_hi = ci_prop_clopper_pearson(k, n, alpha)\n",
    "\n",
    "print(f\"Wald: [{wald_lo:.4f}, {wald_hi:.4f}] (length: {wald_hi-wald_lo:.4f})\")\n",
    "print(f\"Wilson: [{wilson_lo:.4f}, {wilson_hi:.4f}] (length: {wilson_hi-wilson_lo:.4f})\")\n",
    "print(f\"Agresti-Coull: [{ac_lo:.4f}, {ac_hi:.4f}] (length: {ac_hi-ac_lo:.4f})\")\n",
    "print(f\"Clopper-Pearson: [{cp_lo:.4f}, {cp_hi:.4f}] (length: {cp_hi-cp_lo:.4f})\")"
   ]
  },
  {
   "cell_type": "markdown",
   "metadata": {},
   "source": [
    "## 2. Normal Mean Confidence Intervals\n",
    "\n",
    "Compare Z-intervals and t-intervals for Normal data."
   ]
  },
  {
   "cell_type": "code",
   "execution_count": null,
   "metadata": {},
   "outputs": [],
   "source": [
    "def ci_mean_known_sigma(xbar, sigma, n, alpha=0.05):\n",
    "    \"\"\"Z-interval for mean with known sigma\"\"\"\n",
    "    z = stats.norm.ppf(1 - alpha/2)\n",
    "    se = sigma / np.sqrt(n)\n",
    "    return xbar - z*se, xbar + z*se\n",
    "\n",
    "def ci_mean_t(x, alpha=0.05):\n",
    "    \"\"\"t-interval for mean with unknown sigma\"\"\"\n",
    "    n = len(x)\n",
    "    xbar = np.mean(x)\n",
    "    s = np.std(x, ddof=1)\n",
    "    t_crit = stats.t.ppf(1 - alpha/2, n-1)\n",
    "    se = s / np.sqrt(n)\n",
    "    return xbar - t_crit*se, xbar + t_crit*se\n",
    "\n",
    "print(\"CI functions for means defined\")"
   ]
  },
  {
   "cell_type": "code",
   "execution_count": null,
   "metadata": {},
   "outputs": [],
   "source": [
    "# Demonstrate mean CIs\n",
    "true_mu = 170.0\n",
    "true_sigma = 15.0\n",
    "n = 25\n",
    "\n",
    "# Generate sample\n",
    "sample = rng.normal(true_mu, true_sigma, n)\n",
    "xbar = np.mean(sample)\n",
    "\n",
    "# Compute intervals\n",
    "z_lo, z_hi = ci_mean_known_sigma(xbar, true_sigma, n)\n",
    "t_lo, t_hi = ci_mean_t(sample)\n",
    "\n",
    "print(f\"Sample mean: {xbar:.3f}\")\n",
    "print(f\"Z-interval (σ known): [{z_lo:.3f}, {z_hi:.3f}] (length: {z_hi-z_lo:.3f})\")\n",
    "print(f\"t-interval (σ unknown): [{t_lo:.3f}, {t_hi:.3f}] (length: {t_hi-t_lo:.3f})\")\n",
    "print(f\"True μ = {true_mu} contained in Z-interval: {z_lo <= true_mu <= z_hi}\")\n",
    "print(f\"True μ = {true_mu} contained in t-interval: {t_lo <= true_mu <= t_hi}\")"
   ]
  },
  {
   "cell_type": "markdown",
   "metadata": {},
   "source": [
    "## 3. Proportion CI Comparison with A/B Testing Data\n",
    "\n",
    "Using the A/B testing dataset to compare proportion confidence intervals."
   ]
  },
  {
   "cell_type": "code",
   "execution_count": null,
   "metadata": {},
   "outputs": [],
   "source": [
    "# Load A/B testing data\n",
    "ab_data = pd.read_csv(\"../../../shared/data/ab_test_clicks.csv\")\n",
    "print(\"A/B testing data shape:\", ab_data.shape)\n",
    "print(\"Columns:\", ab_data.columns.tolist())\n",
    "print(\"\\nFirst few rows:\")\n",
    "print(ab_data.head())\n",
    "\n",
    "# Compute click-through rates by variant\n",
    "ctr_by_variant = ab_data.groupby('variant')['clicks'].agg(['count', 'sum', 'mean'])\n",
    "ctr_by_variant.columns = ['n', 'clicks', 'ctr']\n",
    "print(\"\\nClick-through rates by variant:\")\n",
    "print(ctr_by_variant)"
   ]
  },
  {
   "cell_type": "code",
   "execution_count": null,
   "metadata": {},
   "outputs": [],
   "source": [
    "# Compute CIs for each variant\n",
    "alpha = 0.05\n",
    "variants = ctr_by_variant.index\n",
    "\n",
    "for variant in variants:\n",
    "    n = ctr_by_variant.loc[variant, 'n']\n",
    "    clicks = ctr_by_variant.loc[variant, 'clicks']\n",
    "    ctr = ctr_by_variant.loc[variant, 'ctr']\n",
    "\n",
    "    wald_lo, wald_hi = ci_prop_wald(clicks, n, alpha)\n",
    "    wilson_lo, wilson_hi = ci_prop_wilson(clicks, n, alpha)\n",
    "    ac_lo, ac_hi = ci_prop_agresti_coull(clicks, n, alpha)\n",
    "    cp_lo, cp_hi = ci_prop_clopper_pearson(clicks, n, alpha)\n",
    "\n",
    "    print(f\"\\n{variant} (CTR = {ctr:.4f}):\")\n",
    "    print(f\"  Wald: [{wald_lo:.4f}, {wald_hi:.4f}] (length: {wald_hi-wald_lo:.4f})\")\n",
    "    print(f\"  Wilson: [{wilson_lo:.4f}, {wilson_hi:.4f}] (length: {wilson_hi-wilson_lo:.4f})\")\n",
    "    print(f\"  Agresti-Coull: [{ac_lo:.4f}, {ac_hi:.4f}] (length: {ac_hi-ac_lo:.4f})\")\n",
    "    print(f\"  Clopper-Pearson: [{cp_lo:.4f}, {cp_hi:.4f}] (length: {cp_hi-cp_lo:.4f})\")"
   ]
  },
  {
   "cell_type": "markdown",
   "metadata": {},
   "source": [
    "## 4. Coverage Simulation for Proportion CIs\n",
    "\n",
    "Simulate empirical coverage rates for different CI methods."
   ]
  },
  {
   "cell_type": "code",
   "execution_count": null,
   "metadata": {},
   "outputs": [],
   "source": [
    "def coverage_curve(n=20, R=10000, alpha=0.05, rng=None):\n",
    "    \"\"\"Empirical coverage for multiple CI methods across a grid of p values.\"\"\"\n",
    "    rng = np.random.default_rng() if rng is None else rng\n",
    "    ps = np.linspace(0.02, 0.98, 25)\n",
    "    methods = {\n",
    "        \"Wald\": ci_prop_wald,\n",
    "        \"Wilson\": ci_prop_wilson,\n",
    "        \"Agresti–Coull\": ci_prop_agresti_coull,\n",
    "        \"Clopper–Pearson\": ci_prop_clopper_pearson\n",
    "    }\n",
    "    rows=[]\n",
    "    for p in ps:\n",
    "        for name, fn in methods.items():\n",
    "            cover=0\n",
    "            for r in range(R):\n",
    "                k = rng.binomial(n, p)\n",
    "                lo, hi = fn(k, n, alpha)\n",
    "                cover += (lo <= p) and (p <= hi)\n",
    "            rows.append((p, name, cover/R))\n",
    "    return pd.DataFrame(rows, columns=[\"p\",\"method\",\"coverage\"])\n",
    "\n",
    "print(\"Function defined: coverage_curve\")"
   ]
  },
  {
   "cell_type": "code",
   "execution_count": null,
   "metadata": {},
   "outputs": [],
   "source": [
    "# Compute coverage curves\n",
    "coverage_results = coverage_curve(n=20, R=5000, rng=rng)\n",
    "print(\"Coverage simulation complete\")\n",
    "print(\"Summary by method:\")\n",
    "print(coverage_results.groupby('method')['coverage'].describe().round(4))"
   ]
  },
  {
   "cell_type": "code",
   "execution_count": null,
   "metadata": {},
   "outputs": [],
   "source": [
    "# Plot coverage curves\n",
    "plt.figure(figsize=(12, 8))\n",
    "\n",
    "methods = coverage_results['method'].unique()\n",
    "for method in methods:\n",
    "    data = coverage_results[coverage_results['method'] == method]\n",
    "    plt.plot(data['p'], data['coverage'], marker='o', linewidth=2, label=method)\n",
    "\n",
    "plt.axhline(0.95, color='red', linestyle='--', alpha=0.7, label='95% Target')\n",
    "plt.xlabel('True Proportion')\n",
    "plt.ylabel('Empirical Coverage')\n",
    "plt.title('Proportion CI Coverage Comparison (n=20)')\n",
    "plt.legend()\n",
    "plt.grid(True, alpha=0.3)\n",
    "\n",
    "plt.tight_layout()\n",
    "plt.savefig('../slides/figures/proportion_ci_coverage.png', dpi=150, bbox_inches='tight')\n",
    "plt.show()\n",
    "\n",
    "print(\"Coverage plot saved\")"
   ]
  },
  {
   "cell_type": "markdown",
   "metadata": {},
   "source": [
    "## 5. Delta Method for Functions of Parameters\n",
    "\n",
    "Demonstrate the delta method for confidence intervals of parameter functions."
   ]
  },
  {
   "cell_type": "code",
   "execution_count": null,
   "metadata": {},
   "outputs": [],
   "source": [
    "def delta_method_ci(g, g_prime, theta_hat, se_theta, alpha=0.05):\n",
    "    \"\"\"\n",
    "    Delta method confidence interval for g(theta).\n",
    "\n",
    "    Parameters:\n",
    "    -----------\n",
    "    g : callable\n",
    "        Function g(theta)\n",
    "    g_prime : callable\n",
    "        Derivative g'(theta)\n",
    "    theta_hat : float\n",
    "        Point estimate of theta\n",
    "    se_theta : float\n",
    "        Standard error of theta_hat\n",
    "    alpha : float\n",
    "        Significance level\n",
    "\n",
    "    Returns:\n",
    "    --------\n",
    "    tuple: (lower, upper) confidence limits\n",
    "    \"\"\"\n",
    "    z = stats.norm.ppf(1 - alpha/2)\n",
    "    g_hat = g(theta_hat)\n",
    "    g_prime_hat = g_prime(theta_hat)\n",
    "    se_g = abs(g_prime_hat) * se_theta\n",
    "\n",
    "    return g_hat - z*se_g, g_hat + z*se_g\n",
    "\n",
    "print(\"Function defined: delta_method_ci\")"
   ]
  },
  {
   "cell_type": "code",
   "execution_count": null,
   "metadata": {},
   "outputs": [],
   "source": [
    "# Example: Coefficient of variation CV = sigma/mu\n",
    "def cv_func(sigma, mu):\n",
    "    return sigma / mu\n",
    "\n",
    "def cv_prime_sigma(sigma, mu):\n",
    "    return 1 / mu\n",
    "\n",
    "def cv_prime_mu(sigma, mu):\n",
    "    return -sigma / (mu**2)\n",
    "\n",
    "# Simulate data\n",
    "true_mu = 10.0\n",
    "true_sigma = 3.0\n",
    "n = 100\n",
    "sample = rng.normal(true_mu, true_sigma, n)\n",
    "\n",
    "# Estimates\n",
    "mu_hat = np.mean(sample)\n",
    "sigma_hat = np.std(sample, ddof=1)\n",
    "cv_hat = sigma_hat / mu_hat\n",
    "\n",
    "# Standard errors (asymptotic)\n",
    "se_mu = true_sigma / np.sqrt(n)  # Using true sigma for simplicity\n",
    "se_sigma = true_sigma / np.sqrt(2*(n-1))  # Approximate for variance estimator\n",
    "\n",
    "# Delta method for CV\n",
    "cv_lo, cv_hi = delta_method_ci(\n",
    "    lambda theta: cv_func(theta, mu_hat),  # Fix mu, vary sigma\n",
    "    lambda theta: cv_prime_sigma(theta, mu_hat),\n",
    "    sigma_hat,\n",
    "    se_sigma\n",
    ")\n",
    "\n",
    "print(f\"Sample CV: {cv_hat:.4f}\")\n",
    "print(f\"Delta method CI: [{cv_lo:.4f}, {cv_hi:.4f}]\")\n",
    "print(f\"True CV: {true_sigma/true_mu:.4f}\")\n",
    "print(f\"CI contains true value: {cv_lo <= true_sigma/true_mu <= cv_hi}\")"
   ]
  },
  {
   "cell_type": "markdown",
   "metadata": {},
   "source": [
    "## 6. Summary and Key Takeaways\n",
    "\n",
    "This notebook demonstrated:\n",
    "1. Construction of confidence intervals for means, variances, and proportions\n",
    "2. Comparison of different proportion CI methods using A/B testing data\n",
    "3. Empirical coverage simulation to evaluate CI performance\n",
    "4. Application of the delta method for functions of parameters\n",
    "\n",
    "Key insights:\n",
    "- t-intervals provide better small-sample performance than Z-intervals\n",
    "- Wilson and Agresti-Coull intervals improve on Wald for proportions\n",
    "- Delta method enables inference for complex parameter functions\n",
    "- Empirical simulation is crucial for understanding CI behavior\n",
    "- A/B testing data provides realistic examples for CI comparison"
   ]
  }
 ],
 "metadata": {
  "kernelspec": {
   "display_name": "applied-stats",
   "language": "python",
   "name": "python3"
  },
  "language_info": {
   "codemirror_mode": {
    "name": "ipython",
    "version": 3
   },
   "file_extension": ".py",
   "mimetype": "text/x-python",
   "name": "python",
   "nbconvert_exporter": "python",
   "pygments_lexer": "ipython3",
   "version": "3.13.0"
  }
 },
 "nbformat": 4,
 "nbformat_minor": 4
}
